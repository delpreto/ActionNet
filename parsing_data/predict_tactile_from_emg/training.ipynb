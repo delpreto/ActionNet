{
 "cells": [
  {
   "attachments": {},
   "cell_type": "markdown",
   "metadata": {},
   "source": [
    "Set up imports/paths"
   ]
  },
  {
   "cell_type": "code",
   "execution_count": 5,
   "metadata": {},
   "outputs": [],
   "source": [
    "import numpy as np\n",
    "import keras\n",
    "from datetime import datetime\n",
    "from training_functions import *\n",
    "data_dir = \"Insert Correct Data Directory\" #TODO\n",
    "requests_file = 'request_yamls/training.yaml'\n",
    "saved_json = 'training.json'"
   ]
  },
  {
   "attachments": {},
   "cell_type": "markdown",
   "metadata": {},
   "source": [
    "Break up data into training/test"
   ]
  },
  {
   "cell_type": "code",
   "execution_count": null,
   "metadata": {},
   "outputs": [],
   "source": [
    "### Only run this cell if there is no training.json file already saved ###\n",
    "save_training_json(requests_file, data_dir, saved_json)"
   ]
  },
  {
   "cell_type": "code",
   "execution_count": null,
   "metadata": {},
   "outputs": [],
   "source": [
    "with open(saved_json) as json_file:\n",
    "    data = ujson.load(json_file)\n",
    "\n",
    "# Uncomment end of following line to train with both hands, currently only using left-hand data\n",
    "corresponding_streams = [('myo-left/emg', 'tactile-glove-left/tactile_data')] #,('myo-right/emg', 'tactile-glove-right/tactile_data')]\n",
    "window_time = 2 # in seconds\n",
    "train_x, train_y, test_x, test_y = window_data(data, corresponding_streams, window_time)\n"
   ]
  },
  {
   "cell_type": "code",
   "execution_count": null,
   "metadata": {},
   "outputs": [],
   "source": [
    "print(train_x.shape)\n",
    "print(train_y.shape)\n",
    "print(test_x.shape)\n",
    "print(test_y.shape)"
   ]
  },
  {
   "cell_type": "code",
   "execution_count": 9,
   "metadata": {},
   "outputs": [],
   "source": [
    "# replace np.mean with other averaging functions in parse_hdf5_data.py as complexity increases\n",
    "# currently just averaging all numbers in 32x32 grid and 1x8 emg array\n",
    "train_x = np.mean(train_x, tuple(range(2, train_x.ndim)), keepdims=True)\n",
    "train_y = np.mean(train_y, tuple(range(2, train_y.ndim)), keepdims=True)\n",
    "test_x = np.mean(test_x, tuple(range(2, test_x.ndim)), keepdims=True)\n",
    "test_y = np.mean(test_y, tuple(range(2, test_y.ndim)), keepdims=True)"
   ]
  },
  {
   "cell_type": "code",
   "execution_count": null,
   "metadata": {},
   "outputs": [],
   "source": [
    "print(train_x.shape)\n",
    "print(train_y.shape)\n",
    "print(test_x.shape)\n",
    "print(test_y.shape)"
   ]
  },
  {
   "attachments": {},
   "cell_type": "markdown",
   "metadata": {},
   "source": [
    "Create Model"
   ]
  },
  {
   "cell_type": "code",
   "execution_count": null,
   "metadata": {},
   "outputs": [],
   "source": [
    "model = setup_model(train_x)"
   ]
  },
  {
   "attachments": {},
   "cell_type": "markdown",
   "metadata": {},
   "source": [
    "Training/Plotting loop"
   ]
  },
  {
   "cell_type": "code",
   "execution_count": null,
   "metadata": {},
   "outputs": [],
   "source": [
    "# https://keras.io/guides/training_with_built_in_methods/\n",
    "log_dir = \"logs/fit/\" + datetime.now().strftime(\"%Y%m%d-%H%M%S\")\n",
    "tensorboard_callback = keras.callbacks.TensorBoard(log_dir=log_dir, histogram_freq=1)\n",
    "\n",
    "model.fit(x=train_x, \n",
    "          y=train_y, \n",
    "          batch_size=10,\n",
    "          epochs=10, \n",
    "          validation_data=(test_x, test_y), \n",
    "          callbacks=[tensorboard_callback])"
   ]
  },
  {
   "attachments": {},
   "cell_type": "markdown",
   "metadata": {},
   "source": [
    "Evaluate trained model"
   ]
  },
  {
   "cell_type": "code",
   "execution_count": 20,
   "metadata": {},
   "outputs": [],
   "source": [
    "# Can uncomment this once data is split into training, validation, AND testing\n",
    "# Currently only being split into training and test, with \"test\" being used to validate in the previous cell\n",
    "\n",
    "# results = model.evaluate(test_x, test_y, batch_size=128)\n",
    "# print(\"test loss, test acc:\", results)"
   ]
  }
 ],
 "metadata": {
  "kernelspec": {
   "display_name": "anet",
   "language": "python",
   "name": "python3"
  },
  "language_info": {
   "codemirror_mode": {
    "name": "ipython",
    "version": 3
   },
   "file_extension": ".py",
   "mimetype": "text/x-python",
   "name": "python",
   "nbconvert_exporter": "python",
   "pygments_lexer": "ipython3",
   "version": "3.9.13"
  },
  "orig_nbformat": 4,
  "vscode": {
   "interpreter": {
    "hash": "173ddddacb3805e49d801a8b5daa466d8856bc31e1539a74ad01099b92516988"
   }
  }
 },
 "nbformat": 4,
 "nbformat_minor": 2
}
