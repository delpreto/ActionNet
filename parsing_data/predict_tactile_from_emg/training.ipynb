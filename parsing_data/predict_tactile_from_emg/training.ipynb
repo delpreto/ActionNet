{
 "cells": [
  {
   "attachments": {},
   "cell_type": "markdown",
   "metadata": {},
   "source": [
    "Set up imports/paths"
   ]
  },
  {
   "cell_type": "code",
   "execution_count": 17,
   "metadata": {},
   "outputs": [],
   "source": [
    "import numpy as np\n",
    "import keras\n",
    "from datetime import datetime\n",
    "from training_functions import *\n",
    "data_dir = \"C:/Documents/data/\"\n",
    "requests_file = 'request_yamls/training.yaml'\n",
    "saved_json = 'training.json'"
   ]
  },
  {
   "attachments": {},
   "cell_type": "markdown",
   "metadata": {},
   "source": [
    "Break up data into training/test"
   ]
  },
  {
   "cell_type": "code",
   "execution_count": 4,
   "metadata": {},
   "outputs": [
    {
     "name": "stdout",
     "output_type": "stream",
     "text": [
      "Extracting activity labels from the HDF5 file\n",
      "Extracting myo-left data from the HDF5 file\n",
      "myo-left Data:\n",
      "  Shape (433918, 8)\n",
      "Extracting myo-right data from the HDF5 file\n",
      "myo-right Data:\n",
      "  Shape (426658, 8)\n",
      "Extracting tactile-glove-left data from the HDF5 file\n",
      "tactile-glove-left Data:\n",
      "  Shape (15946, 32, 32)\n",
      "Extracting tactile-glove-right data from the HDF5 file\n",
      "tactile-glove-right Data:\n",
      "  Shape (15953, 32, 32)\n",
      "Original Data:\n",
      "  Shape (2,)\n",
      "  Sampling rate: 0.00 Hz\n",
      "\n",
      "Resampled Data:\n",
      "  Shape (132928,)\n",
      "  Sampling rate: 50.00 Hz\n",
      "\n",
      "Extracting myo-left data from the HDF5 file\n",
      "myo-left Data:\n",
      "  Shape (433918, 8)\n",
      "\n",
      "Original Data:\n",
      "  Shape (433818, 8)\n",
      "  Sampling rate: 163.19 Hz\n",
      "\n",
      "Resampled Data:\n",
      "  Shape (132928, 8)\n",
      "  Sampling rate: 50.00 Hz\n",
      "\n",
      "Extracting myo-right data from the HDF5 file\n",
      "myo-right Data:\n",
      "  Shape (426658, 8)\n",
      "\n",
      "Original Data:\n",
      "  Shape (426558, 8)\n",
      "  Sampling rate: 160.45 Hz\n",
      "\n",
      "Resampled Data:\n",
      "  Shape (132928, 8)\n",
      "  Sampling rate: 50.00 Hz\n",
      "\n",
      "Extracting tactile-glove-left data from the HDF5 file\n",
      "tactile-glove-left Data:\n",
      "  Shape (15946, 32, 32)\n",
      "\n",
      "Original Data:\n",
      "  Shape (15846, 32, 32)\n",
      "  Sampling rate: 6.00 Hz\n",
      "\n",
      "Resampled Data:\n",
      "  Shape (132928, 32, 32)\n",
      "  Sampling rate: 50.00 Hz\n",
      "\n",
      "Extracting tactile-glove-right data from the HDF5 file\n",
      "tactile-glove-right Data:\n",
      "  Shape (15953, 32, 32)\n",
      "\n",
      "Original Data:\n",
      "  Shape (15853, 32, 32)\n",
      "  Sampling rate: 6.00 Hz\n",
      "\n",
      "Resampled Data:\n",
      "  Shape (132928, 32, 32)\n",
      "  Sampling rate: 50.00 Hz\n",
      "\n",
      "Extracting activity labels from the HDF5 file\n",
      "Extracting myo-left data from the HDF5 file\n",
      "myo-left Data:\n",
      "  Shape (463079, 8)\n",
      "Extracting myo-right data from the HDF5 file\n",
      "myo-right Data:\n",
      "  Shape (364615, 8)\n",
      "Extracting tactile-glove-left data from the HDF5 file\n",
      "tactile-glove-left Data:\n",
      "  Shape (13525, 32, 32)\n",
      "Extracting tactile-glove-right data from the HDF5 file\n",
      "tactile-glove-right Data:\n",
      "  Shape (13597, 32, 32)\n",
      "Original Data:\n",
      "  Shape (2,)\n",
      "  Sampling rate: 0.00 Hz\n",
      "\n",
      "Resampled Data:\n",
      "  Shape (116059,)\n",
      "  Sampling rate: 50.00 Hz\n",
      "\n",
      "Extracting myo-left data from the HDF5 file\n",
      "myo-left Data:\n",
      "  Shape (463079, 8)\n",
      "\n",
      "Original Data:\n",
      "  Shape (462979, 8)\n",
      "  Sampling rate: 199.48 Hz\n",
      "\n",
      "Resampled Data:\n",
      "  Shape (116059, 8)\n",
      "  Sampling rate: 50.00 Hz\n",
      "\n",
      "Extracting myo-right data from the HDF5 file\n",
      "myo-right Data:\n",
      "  Shape (364615, 8)\n",
      "\n",
      "Original Data:\n",
      "  Shape (364515, 8)\n",
      "  Sampling rate: 157.06 Hz\n",
      "\n",
      "Resampled Data:\n",
      "  Shape (116059, 8)\n",
      "  Sampling rate: 50.00 Hz\n",
      "\n",
      "Extracting tactile-glove-left data from the HDF5 file\n",
      "tactile-glove-left Data:\n",
      "  Shape (13525, 32, 32)\n",
      "\n",
      "Original Data:\n",
      "  Shape (13425, 32, 32)\n",
      "  Sampling rate: 5.83 Hz\n",
      "\n",
      "Resampled Data:\n",
      "  Shape (116059, 32, 32)\n",
      "  Sampling rate: 50.00 Hz\n",
      "\n",
      "Extracting tactile-glove-right data from the HDF5 file\n",
      "tactile-glove-right Data:\n",
      "  Shape (13597, 32, 32)\n",
      "\n",
      "Original Data:\n",
      "  Shape (13497, 32, 32)\n",
      "  Sampling rate: 5.86 Hz\n",
      "\n",
      "Resampled Data:\n",
      "  Shape (116059, 32, 32)\n",
      "  Sampling rate: 50.00 Hz\n",
      "\n"
     ]
    }
   ],
   "source": [
    "### Only run this cell if there is no training.json file already saved ###\n",
    "save_training_json(requests_file, data_dir, saved_json)"
   ]
  },
  {
   "cell_type": "code",
   "execution_count": 2,
   "metadata": {},
   "outputs": [
    {
     "name": "stdout",
     "output_type": "stream",
     "text": [
      "start windowing\n",
      "{'Peel a potato'}\n",
      "100\n"
     ]
    }
   ],
   "source": [
    "with open(saved_json) as json_file:\n",
    "    data = ujson.load(json_file)\n",
    "\n",
    "# Uncomment end of following line to train with both hands, currently only using left-hand data\n",
    "corresponding_streams = [('myo-left/emg', 'tactile-glove-left/tactile_data')] #,('myo-right/emg', 'tactile-glove-right/tactile_data')]\n",
    "window_time = 2 # in seconds\n",
    "train_x, train_y, test_x, test_y = window_data(data, corresponding_streams, window_time)\n"
   ]
  },
  {
   "cell_type": "code",
   "execution_count": 11,
   "metadata": {},
   "outputs": [
    {
     "name": "stdout",
     "output_type": "stream",
     "text": [
      "(643, 100, 1)\n",
      "(643, 100, 1, 1)\n",
      "(157, 100, 1)\n",
      "(157, 100, 1, 1)\n"
     ]
    }
   ],
   "source": [
    "print(train_x.shape)\n",
    "print(train_y.shape)\n",
    "print(test_x.shape)\n",
    "print(test_y.shape)"
   ]
  },
  {
   "cell_type": "code",
   "execution_count": 12,
   "metadata": {},
   "outputs": [],
   "source": [
    "# replace np.mean with other averaging functions in parse_hdf5_data.py as complexity increases\n",
    "# currently just averaging all numbers in 32x32 grid and 1x8 emg array\n",
    "train_x = np.mean(train_x, tuple(range(2, train_x.ndim)), keepdims=True)\n",
    "train_y = np.mean(train_y, tuple(range(2, train_y.ndim)), keepdims=True)\n",
    "test_x = np.mean(test_x, tuple(range(2, test_x.ndim)), keepdims=True)\n",
    "test_y = np.mean(test_y, tuple(range(2, test_y.ndim)), keepdims=True)"
   ]
  },
  {
   "cell_type": "code",
   "execution_count": 13,
   "metadata": {},
   "outputs": [
    {
     "name": "stdout",
     "output_type": "stream",
     "text": [
      "(643, 100, 1)\n",
      "(643, 100, 1, 1)\n",
      "(157, 100, 1)\n",
      "(157, 100, 1, 1)\n"
     ]
    }
   ],
   "source": [
    "print(train_x.shape)\n",
    "print(train_y.shape)\n",
    "print(test_x.shape)\n",
    "print(test_y.shape)"
   ]
  },
  {
   "attachments": {},
   "cell_type": "markdown",
   "metadata": {},
   "source": [
    "Create Model"
   ]
  },
  {
   "cell_type": "code",
   "execution_count": 18,
   "metadata": {},
   "outputs": [
    {
     "name": "stdout",
     "output_type": "stream",
     "text": [
      "starting\n",
      "(None, 100, 1, 1) (None, 100, 1)\n",
      "layers set up\n",
      "model created\n",
      "Model: \"prediction_model\"\n",
      "_________________________________________________________________\n",
      " Layer (type)                Output Shape              Param #   \n",
      "=================================================================\n",
      " input_3 (InputLayer)        [(None, 100, 1)]          0         \n",
      "                                                                 \n",
      " lstm_2 (LSTM)               (None, 64)                16896     \n",
      "                                                                 \n",
      " dense_2 (Dense)             (None, 100)               6500      \n",
      "                                                                 \n",
      " reshape_2 (Reshape)         (None, 100, 1, 1)         0         \n",
      "                                                                 \n",
      " conv2d_transpose_2 (Conv2DT  (None, 100, 1, 1)        2         \n",
      " ranspose)                                                       \n",
      "                                                                 \n",
      "=================================================================\n",
      "Total params: 23,398\n",
      "Trainable params: 23,398\n",
      "Non-trainable params: 0\n",
      "_________________________________________________________________\n"
     ]
    }
   ],
   "source": [
    "model = setup_model(train_x)"
   ]
  },
  {
   "attachments": {},
   "cell_type": "markdown",
   "metadata": {},
   "source": [
    "Training/Plotting loop"
   ]
  },
  {
   "cell_type": "code",
   "execution_count": 19,
   "metadata": {},
   "outputs": [
    {
     "name": "stdout",
     "output_type": "stream",
     "text": [
      "Epoch 1/10\n",
      "65/65 [==============================] - 3s 28ms/step - loss: 0.0323 - accuracy: 0.0000e+00 - val_loss: 0.0078 - val_accuracy: 0.0000e+00\n",
      "Epoch 2/10\n",
      "65/65 [==============================] - 2s 24ms/step - loss: 0.0029 - accuracy: 0.0000e+00 - val_loss: 0.0015 - val_accuracy: 0.0000e+00\n",
      "Epoch 3/10\n",
      "65/65 [==============================] - 2s 24ms/step - loss: 7.6695e-04 - accuracy: 0.0000e+00 - val_loss: 0.0010 - val_accuracy: 0.0000e+00\n",
      "Epoch 4/10\n",
      "65/65 [==============================] - 2s 24ms/step - loss: 6.1750e-04 - accuracy: 0.0000e+00 - val_loss: 9.5840e-04 - val_accuracy: 0.0000e+00\n",
      "Epoch 5/10\n",
      "65/65 [==============================] - 1s 23ms/step - loss: 6.0725e-04 - accuracy: 0.0000e+00 - val_loss: 9.5038e-04 - val_accuracy: 0.0000e+00\n",
      "Epoch 6/10\n",
      "65/65 [==============================] - 1s 23ms/step - loss: 6.0656e-04 - accuracy: 0.0000e+00 - val_loss: 9.4973e-04 - val_accuracy: 0.0000e+00\n",
      "Epoch 7/10\n",
      "65/65 [==============================] - 1s 22ms/step - loss: 6.0659e-04 - accuracy: 0.0000e+00 - val_loss: 9.4739e-04 - val_accuracy: 0.0000e+00\n",
      "Epoch 8/10\n",
      "65/65 [==============================] - 1s 22ms/step - loss: 6.0637e-04 - accuracy: 0.0000e+00 - val_loss: 9.4520e-04 - val_accuracy: 0.0000e+00\n",
      "Epoch 9/10\n",
      "65/65 [==============================] - 2s 23ms/step - loss: 6.0660e-04 - accuracy: 0.0000e+00 - val_loss: 9.4683e-04 - val_accuracy: 0.0000e+00\n",
      "Epoch 10/10\n",
      "65/65 [==============================] - 1s 22ms/step - loss: 6.0619e-04 - accuracy: 0.0000e+00 - val_loss: 9.4818e-04 - val_accuracy: 0.0000e+00\n"
     ]
    },
    {
     "data": {
      "text/plain": [
       "<keras.callbacks.History at 0x1a2884240d0>"
      ]
     },
     "execution_count": 19,
     "metadata": {},
     "output_type": "execute_result"
    }
   ],
   "source": [
    "# https://keras.io/guides/training_with_built_in_methods/\n",
    "for f in os.listdir('logs/fit/'):\n",
    "    os.remove('logs/fit/{f}')\n",
    "\n",
    "log_dir = \"logs/fit/\" + datetime.now().strftime(\"%Y%m%d-%H%M%S\")\n",
    "tensorboard_callback = keras.callbacks.TensorBoard(log_dir=log_dir, histogram_freq=1)\n",
    "\n",
    "model.fit(x=train_x, \n",
    "          y=train_y, \n",
    "          batch_size=10,\n",
    "          epochs=10, \n",
    "          validation_data=(test_x, test_y), \n",
    "          callbacks=[tensorboard_callback])"
   ]
  },
  {
   "attachments": {},
   "cell_type": "markdown",
   "metadata": {},
   "source": [
    "Evaluate trained model"
   ]
  },
  {
   "cell_type": "code",
   "execution_count": 20,
   "metadata": {},
   "outputs": [],
   "source": [
    "# Can uncomment this once data is split into training, validation, AND testing\n",
    "# Currently only being split into training and test, with \"test\" being used to validate in the previous cell\n",
    "\n",
    "# results = model.evaluate(test_x, test_y, batch_size=128)\n",
    "# print(\"test loss, test acc:\", results)"
   ]
  }
 ],
 "metadata": {
  "kernelspec": {
   "display_name": "anet",
   "language": "python",
   "name": "python3"
  },
  "language_info": {
   "codemirror_mode": {
    "name": "ipython",
    "version": 3
   },
   "file_extension": ".py",
   "mimetype": "text/x-python",
   "name": "python",
   "nbconvert_exporter": "python",
   "pygments_lexer": "ipython3",
   "version": "3.9.13"
  },
  "orig_nbformat": 4,
  "vscode": {
   "interpreter": {
    "hash": "173ddddacb3805e49d801a8b5daa466d8856bc31e1539a74ad01099b92516988"
   }
  }
 },
 "nbformat": 4,
 "nbformat_minor": 2
}
